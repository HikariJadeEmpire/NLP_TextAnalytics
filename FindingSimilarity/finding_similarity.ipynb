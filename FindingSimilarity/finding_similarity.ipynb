{
 "cells": [
  {
   "cell_type": "code",
   "execution_count": 1,
   "metadata": {},
   "outputs": [
    {
     "name": "stdout",
     "output_type": "stream",
     "text": [
      "Python ver : 3.10.9 (main, Mar  1 2023, 12:33:47) [Clang 14.0.6 ]\n",
      "Pandas ver : 2.0.3\n",
      "Numpy ver : 1.25.1\n"
     ]
    }
   ],
   "source": [
    "import sys\n",
    "import pandas as pd\n",
    "import numpy as np\n",
    "\n",
    "print(F\"Python ver : {sys.version}\\nPandas ver : {pd.__version__}\\nNumpy ver : {np.__version__}\")"
   ]
  },
  {
   "cell_type": "code",
   "execution_count": 2,
   "metadata": {},
   "outputs": [
    {
     "data": {
      "text/html": [
       "<div>\n",
       "<style scoped>\n",
       "    .dataframe tbody tr th:only-of-type {\n",
       "        vertical-align: middle;\n",
       "    }\n",
       "\n",
       "    .dataframe tbody tr th {\n",
       "        vertical-align: top;\n",
       "    }\n",
       "\n",
       "    .dataframe thead th {\n",
       "        text-align: right;\n",
       "    }\n",
       "</style>\n",
       "<table border=\"1\" class=\"dataframe\">\n",
       "  <thead>\n",
       "    <tr style=\"text-align: right;\">\n",
       "      <th></th>\n",
       "      <th>sentence</th>\n",
       "      <th>topic</th>\n",
       "    </tr>\n",
       "  </thead>\n",
       "  <tbody>\n",
       "    <tr>\n",
       "      <th>5</th>\n",
       "      <td>\"The Avengers. That's what we call ourselves. ...</td>\n",
       "      <td>avengers</td>\n",
       "    </tr>\n",
       "    <tr>\n",
       "      <th>6</th>\n",
       "      <td>\"My friend, he told me that it was better to f...</td>\n",
       "      <td>thor - avengers</td>\n",
       "    </tr>\n",
       "    <tr>\n",
       "      <th>7</th>\n",
       "      <td>\"Are you happy?\"\\n\"That's an interesting quest...</td>\n",
       "      <td>docter strange</td>\n",
       "    </tr>\n",
       "    <tr>\n",
       "      <th>8</th>\n",
       "      <td>\"I really did try to help you. I mean, I could...</td>\n",
       "      <td>peter parker - spider man</td>\n",
       "    </tr>\n",
       "    <tr>\n",
       "      <th>9</th>\n",
       "      <td>The Guardians of the Galaxy are a team of inte...</td>\n",
       "      <td>the guardians of the galaxy</td>\n",
       "    </tr>\n",
       "  </tbody>\n",
       "</table>\n",
       "</div>"
      ],
      "text/plain": [
       "                                            sentence  \\\n",
       "5  \"The Avengers. That's what we call ourselves. ...   \n",
       "6  \"My friend, he told me that it was better to f...   \n",
       "7  \"Are you happy?\"\\n\"That's an interesting quest...   \n",
       "8  \"I really did try to help you. I mean, I could...   \n",
       "9  The Guardians of the Galaxy are a team of inte...   \n",
       "\n",
       "                         topic  \n",
       "5                     avengers  \n",
       "6              thor - avengers  \n",
       "7               docter strange  \n",
       "8    peter parker - spider man  \n",
       "9  the guardians of the galaxy  "
      ]
     },
     "execution_count": 2,
     "metadata": {},
     "output_type": "execute_result"
    }
   ],
   "source": [
    "text_files = pd.read_csv('avengers_sentence.csv')\n",
    "text_files.tail(5)"
   ]
  },
  {
   "cell_type": "code",
   "execution_count": 3,
   "metadata": {},
   "outputs": [
    {
     "name": "stdout",
     "output_type": "stream",
     "text": [
      "<class 'pandas.core.frame.DataFrame'>\n",
      "RangeIndex: 10 entries, 0 to 9\n",
      "Data columns (total 2 columns):\n",
      " #   Column    Non-Null Count  Dtype \n",
      "---  ------    --------------  ----- \n",
      " 0   sentence  10 non-null     object\n",
      " 1   topic     10 non-null     object\n",
      "dtypes: object(2)\n",
      "memory usage: 288.0+ bytes\n"
     ]
    }
   ],
   "source": [
    "text_files.info()"
   ]
  },
  {
   "cell_type": "code",
   "execution_count": 4,
   "metadata": {},
   "outputs": [],
   "source": [
    "from sklearn.feature_extraction.text import TfidfVectorizer\n",
    "\n",
    "documents = text_files['sentence']\n",
    "\n",
    "tfidf = TfidfVectorizer(min_df=1, stop_words=\"english\").fit_transform(documents)\n",
    "# no need to normalize, since Vectorizer will return normalized tf-idf\n",
    "pairwise_similarity = tfidf * tfidf.T"
   ]
  },
  {
   "cell_type": "code",
   "execution_count": 5,
   "metadata": {},
   "outputs": [
    {
     "data": {
      "text/plain": [
       "sentence    \"I really did try to help you. I mean, I could...\n",
       "topic                               peter parker - spider man\n",
       "Name: 8, dtype: object"
      ]
     },
     "execution_count": 5,
     "metadata": {},
     "output_type": "execute_result"
    }
   ],
   "source": [
    "# find an index of the documents we interesed\n",
    "\n",
    "# this method will find the index of our interested document\n",
    "\n",
    "findingtopic = 'docter strange'\n",
    "ind = text_files.loc[text_files['topic'] == findingtopic ].index[0]\n",
    "\n",
    "# perform cosine similarity\n",
    "\n",
    "arr = pairwise_similarity.toarray()\n",
    "\n",
    "###############################################################\n",
    "# find the index of the most similar document using this method\n",
    "# This method will replace np values on diagonal line with NaN\n",
    "\n",
    "np.fill_diagonal(arr, np.nan) \n",
    "\n",
    "# so we can use this method to get the index of the most similar document\n",
    "\n",
    "result_ind = np.nanargmax(arr[ind])\n",
    "\n",
    "# see details\n",
    "\n",
    "text_files.iloc[result_ind]"
   ]
  },
  {
   "cell_type": "markdown",
   "metadata": {},
   "source": [
    "# Scores"
   ]
  },
  {
   "cell_type": "code",
   "execution_count": 6,
   "metadata": {},
   "outputs": [
    {
     "data": {
      "text/plain": [
       "array([[       nan, 0.11166974, 0.06960237, 0.05860446, 0.05051452,\n",
       "        0.20370969, 0.05208252, 0.0691245 , 0.10308284, 0.03406958],\n",
       "       [0.11166974,        nan, 0.1053913 , 0.11620109, 0.11083364,\n",
       "        0.28247846, 0.13865897, 0.10249381, 0.23692998, 0.07087939],\n",
       "       [0.06960237, 0.1053913 ,        nan, 0.10059244, 0.03916435,\n",
       "        0.19684713, 0.09490542, 0.06756203, 0.08567109, 0.10487506],\n",
       "       [0.05860446, 0.11620109, 0.10059244,        nan, 0.09788973,\n",
       "        0.13920884, 0.07592365, 0.05521554, 0.07189747, 0.06592604],\n",
       "       [0.05051452, 0.11083364, 0.03916435, 0.09788973,        nan,\n",
       "        0.1747698 , 0.17564343, 0.08495251, 0.06855363, 0.16429706],\n",
       "       [0.20370969, 0.28247846, 0.19684713, 0.13920884, 0.1747698 ,\n",
       "               nan, 0.25452131, 0.13147957, 0.18274157, 0.26875808],\n",
       "       [0.05208252, 0.13865897, 0.09490542, 0.07592365, 0.17564343,\n",
       "        0.25452131,        nan, 0.09581763, 0.07687902, 0.17445305],\n",
       "       [0.0691245 , 0.10249381, 0.06756203, 0.05521554, 0.08495251,\n",
       "        0.13147957, 0.09581763,        nan, 0.2575402 , 0.06146792],\n",
       "       [0.10308284, 0.23692998, 0.08567109, 0.07189747, 0.06855363,\n",
       "        0.18274157, 0.07687902, 0.2575402 ,        nan, 0.06457227],\n",
       "       [0.03406958, 0.07087939, 0.10487506, 0.06592604, 0.16429706,\n",
       "        0.26875808, 0.17445305, 0.06146792, 0.06457227,        nan]])"
      ]
     },
     "execution_count": 6,
     "metadata": {},
     "output_type": "execute_result"
    }
   ],
   "source": [
    "arr"
   ]
  }
 ],
 "metadata": {
  "kernelspec": {
   "display_name": "Python 3",
   "language": "python",
   "name": "python3"
  },
  "language_info": {
   "codemirror_mode": {
    "name": "ipython",
    "version": 3
   },
   "file_extension": ".py",
   "mimetype": "text/x-python",
   "name": "python",
   "nbconvert_exporter": "python",
   "pygments_lexer": "ipython3",
   "version": "3.10.9"
  },
  "orig_nbformat": 4
 },
 "nbformat": 4,
 "nbformat_minor": 2
}
