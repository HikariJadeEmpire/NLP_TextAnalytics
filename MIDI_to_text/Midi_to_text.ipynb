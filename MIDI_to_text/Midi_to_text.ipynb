{
 "cells": [
  {
   "cell_type": "markdown",
   "metadata": {},
   "source": [
    "# Convert .MIDI files to texts\n",
    "- create new song from text analytic results"
   ]
  },
  {
   "cell_type": "code",
   "execution_count": 1,
   "metadata": {},
   "outputs": [],
   "source": [
    "# !pip install mido"
   ]
  },
  {
   "cell_type": "code",
   "execution_count": 2,
   "metadata": {},
   "outputs": [],
   "source": [
    "import mido\n",
    "import os\n",
    "\n",
    "import pandas as pd"
   ]
  },
  {
   "cell_type": "markdown",
   "metadata": {},
   "source": [
    "- Inspection"
   ]
  },
  {
   "cell_type": "code",
   "execution_count": 3,
   "metadata": {},
   "outputs": [
    {
     "data": {
      "text/plain": [
       "['Aint-No-Mountain-High-Enough.mid',\n",
       " 'Brandy-(Youre-Are-A-Fine-Girl).mid',\n",
       " 'Never_gonna_give_you_up.mid',\n",
       " 'Sweet-Fox_on_the_Run.mid',\n",
       " 'FONTELLA_BASS.Rescue_me.mid',\n",
       " 'BJ_Thomas-Hooked_on_a_Feeling.mid',\n",
       " 'THE_RASCAL-Its_a_beautiful_morning.mid',\n",
       " 'mommidi-steviewonder-superstition.mid',\n",
       " 'Fooled-Around-And-Fell-In-Love.mid',\n",
       " 'E-LIGHT_ORCH.Last_train_to_london.mid',\n",
       " 'E.W.F.September K.mid',\n",
       " 'JAMIROQUAY.Virtual_insanity.mid',\n",
       " 'ELO-MrBlueSky.mid',\n",
       " 'Escape-(Pina-Colada-Song).mid',\n",
       " 'HotelCalifornia.mid',\n",
       " 'akon-Lonely.mid',\n",
       " 'toto-africa.mid',\n",
       " 'Spirit-In-The-Sky.mid',\n",
       " 'ComeAndGetYourLove.mid',\n",
       " 'California-Dreaming.mid']"
      ]
     },
     "execution_count": 3,
     "metadata": {},
     "output_type": "execute_result"
    }
   ],
   "source": [
    "os.listdir(\"midi_file_theGuadianOfGalaxy\")"
   ]
  },
  {
   "cell_type": "code",
   "execution_count": 4,
   "metadata": {},
   "outputs": [
    {
     "name": "stdout",
     "output_type": "stream",
     "text": [
      "/Users/hikarii/Documents/DATAScience/Github/NLP_TextAnalytics/MIDI_to_text\n"
     ]
    }
   ],
   "source": [
    "!pwd"
   ]
  },
  {
   "cell_type": "code",
   "execution_count": 34,
   "metadata": {},
   "outputs": [],
   "source": [
    "# for sam in mido.MidiFile(\"midi_file_theGuadianOfGalaxy/akon-Lonely.mid\") :\n",
    "#     if sam.type == 'note_on' :\n",
    "#         print(sam)"
   ]
  },
  {
   "cell_type": "markdown",
   "metadata": {},
   "source": [
    "- MIDI to Dataframe"
   ]
  },
  {
   "cell_type": "code",
   "execution_count": 35,
   "metadata": {},
   "outputs": [
    {
     "data": {
      "text/html": [
       "<div>\n",
       "<style scoped>\n",
       "    .dataframe tbody tr th:only-of-type {\n",
       "        vertical-align: middle;\n",
       "    }\n",
       "\n",
       "    .dataframe tbody tr th {\n",
       "        vertical-align: top;\n",
       "    }\n",
       "\n",
       "    .dataframe thead th {\n",
       "        text-align: right;\n",
       "    }\n",
       "</style>\n",
       "<table border=\"1\" class=\"dataframe\">\n",
       "  <thead>\n",
       "    <tr style=\"text-align: right;\">\n",
       "      <th></th>\n",
       "      <th>midi_name</th>\n",
       "      <th>audio_channel</th>\n",
       "      <th>time</th>\n",
       "      <th>notes</th>\n",
       "    </tr>\n",
       "  </thead>\n",
       "  <tbody>\n",
       "    <tr>\n",
       "      <th>0</th>\n",
       "      <td>Aint-No-Mountain-High-Enough.mid</td>\n",
       "      <td>9</td>\n",
       "      <td>3.620680</td>\n",
       "      <td>38</td>\n",
       "    </tr>\n",
       "    <tr>\n",
       "      <th>1</th>\n",
       "      <td>Aint-No-Mountain-High-Enough.mid</td>\n",
       "      <td>9</td>\n",
       "      <td>0.239762</td>\n",
       "      <td>36</td>\n",
       "    </tr>\n",
       "    <tr>\n",
       "      <th>2</th>\n",
       "      <td>Aint-No-Mountain-High-Enough.mid</td>\n",
       "      <td>1</td>\n",
       "      <td>0.239762</td>\n",
       "      <td>57</td>\n",
       "    </tr>\n",
       "    <tr>\n",
       "      <th>3</th>\n",
       "      <td>Aint-No-Mountain-High-Enough.mid</td>\n",
       "      <td>2</td>\n",
       "      <td>0.000000</td>\n",
       "      <td>81</td>\n",
       "    </tr>\n",
       "    <tr>\n",
       "      <th>4</th>\n",
       "      <td>Aint-No-Mountain-High-Enough.mid</td>\n",
       "      <td>2</td>\n",
       "      <td>0.000000</td>\n",
       "      <td>83</td>\n",
       "    </tr>\n",
       "    <tr>\n",
       "      <th>...</th>\n",
       "      <td>...</td>\n",
       "      <td>...</td>\n",
       "      <td>...</td>\n",
       "      <td>...</td>\n",
       "    </tr>\n",
       "    <tr>\n",
       "      <th>174137</th>\n",
       "      <td>California-Dreaming.mid</td>\n",
       "      <td>9</td>\n",
       "      <td>0.000000</td>\n",
       "      <td>49</td>\n",
       "    </tr>\n",
       "    <tr>\n",
       "      <th>174138</th>\n",
       "      <td>California-Dreaming.mid</td>\n",
       "      <td>9</td>\n",
       "      <td>0.000000</td>\n",
       "      <td>35</td>\n",
       "    </tr>\n",
       "    <tr>\n",
       "      <th>174139</th>\n",
       "      <td>California-Dreaming.mid</td>\n",
       "      <td>2</td>\n",
       "      <td>0.030153</td>\n",
       "      <td>62</td>\n",
       "    </tr>\n",
       "    <tr>\n",
       "      <th>174140</th>\n",
       "      <td>California-Dreaming.mid</td>\n",
       "      <td>2</td>\n",
       "      <td>0.032894</td>\n",
       "      <td>65</td>\n",
       "    </tr>\n",
       "    <tr>\n",
       "      <th>174141</th>\n",
       "      <td>California-Dreaming.mid</td>\n",
       "      <td>2</td>\n",
       "      <td>0.030153</td>\n",
       "      <td>69</td>\n",
       "    </tr>\n",
       "  </tbody>\n",
       "</table>\n",
       "<p>174142 rows × 4 columns</p>\n",
       "</div>"
      ],
      "text/plain": [
       "                               midi_name  audio_channel      time  notes\n",
       "0       Aint-No-Mountain-High-Enough.mid              9  3.620680     38\n",
       "1       Aint-No-Mountain-High-Enough.mid              9  0.239762     36\n",
       "2       Aint-No-Mountain-High-Enough.mid              1  0.239762     57\n",
       "3       Aint-No-Mountain-High-Enough.mid              2  0.000000     81\n",
       "4       Aint-No-Mountain-High-Enough.mid              2  0.000000     83\n",
       "...                                  ...            ...       ...    ...\n",
       "174137           California-Dreaming.mid              9  0.000000     49\n",
       "174138           California-Dreaming.mid              9  0.000000     35\n",
       "174139           California-Dreaming.mid              2  0.030153     62\n",
       "174140           California-Dreaming.mid              2  0.032894     65\n",
       "174141           California-Dreaming.mid              2  0.030153     69\n",
       "\n",
       "[174142 rows x 4 columns]"
      ]
     },
     "execution_count": 35,
     "metadata": {},
     "output_type": "execute_result"
    }
   ],
   "source": [
    "# Midi notes to Dataframe\n",
    "\n",
    "for i,name in enumerate(os.listdir(\"midi_file_theGuadianOfGalaxy\")) :\n",
    "\n",
    "    song = { 'midi_name' : [] ,'audio_channel' : [], 'time' : [] , 'notes' : [] }\n",
    "    mid = mido.MidiFile(\"midi_file_theGuadianOfGalaxy/{midiname}\" .format(midiname = name))\n",
    "\n",
    "    for kk in mid :\n",
    "        if kk.type == 'note_on' :\n",
    "            song['midi_name'].append(name)\n",
    "            song['notes'].append( kk.dict()['note'] )\n",
    "            song['time'].append( kk.dict()['time'] )\n",
    "            song['audio_channel'].append( kk.dict()['channel'] )\n",
    "\n",
    "    if i == 0 :\n",
    "        song_df = pd.DataFrame.from_dict(song)\n",
    "    elif i > 0 :\n",
    "        song_df = pd.concat([song_df, pd.DataFrame.from_dict(song)], ignore_index = True)\n",
    "\n",
    "song_df"
   ]
  },
  {
   "cell_type": "code",
   "execution_count": 38,
   "metadata": {},
   "outputs": [
    {
     "data": {
      "text/html": [
       "<div>\n",
       "<style scoped>\n",
       "    .dataframe tbody tr th:only-of-type {\n",
       "        vertical-align: middle;\n",
       "    }\n",
       "\n",
       "    .dataframe tbody tr th {\n",
       "        vertical-align: top;\n",
       "    }\n",
       "\n",
       "    .dataframe thead th {\n",
       "        text-align: right;\n",
       "    }\n",
       "</style>\n",
       "<table border=\"1\" class=\"dataframe\">\n",
       "  <thead>\n",
       "    <tr style=\"text-align: right;\">\n",
       "      <th></th>\n",
       "      <th>midi_name</th>\n",
       "      <th>audio_channel</th>\n",
       "      <th>time</th>\n",
       "      <th>notes</th>\n",
       "    </tr>\n",
       "  </thead>\n",
       "  <tbody>\n",
       "    <tr>\n",
       "      <th>0</th>\n",
       "      <td>Aint-No-Mountain-High-Enough.mid</td>\n",
       "      <td>1</td>\n",
       "      <td>0.000000</td>\n",
       "      <td>40</td>\n",
       "    </tr>\n",
       "    <tr>\n",
       "      <th>1</th>\n",
       "      <td>Aint-No-Mountain-High-Enough.mid</td>\n",
       "      <td>1</td>\n",
       "      <td>0.000000</td>\n",
       "      <td>46</td>\n",
       "    </tr>\n",
       "    <tr>\n",
       "      <th>2</th>\n",
       "      <td>Aint-No-Mountain-High-Enough.mid</td>\n",
       "      <td>1</td>\n",
       "      <td>0.000000</td>\n",
       "      <td>47</td>\n",
       "    </tr>\n",
       "    <tr>\n",
       "      <th>3</th>\n",
       "      <td>Aint-No-Mountain-High-Enough.mid</td>\n",
       "      <td>1</td>\n",
       "      <td>0.000000</td>\n",
       "      <td>50</td>\n",
       "    </tr>\n",
       "    <tr>\n",
       "      <th>4</th>\n",
       "      <td>Aint-No-Mountain-High-Enough.mid</td>\n",
       "      <td>1</td>\n",
       "      <td>0.000000</td>\n",
       "      <td>52</td>\n",
       "    </tr>\n",
       "    <tr>\n",
       "      <th>...</th>\n",
       "      <td>...</td>\n",
       "      <td>...</td>\n",
       "      <td>...</td>\n",
       "      <td>...</td>\n",
       "    </tr>\n",
       "    <tr>\n",
       "      <th>12751</th>\n",
       "      <td>toto-africa.mid</td>\n",
       "      <td>9</td>\n",
       "      <td>0.079787</td>\n",
       "      <td>44</td>\n",
       "    </tr>\n",
       "    <tr>\n",
       "      <th>12752</th>\n",
       "      <td>toto-africa.mid</td>\n",
       "      <td>9</td>\n",
       "      <td>0.086436</td>\n",
       "      <td>44</td>\n",
       "    </tr>\n",
       "    <tr>\n",
       "      <th>12753</th>\n",
       "      <td>toto-africa.mid</td>\n",
       "      <td>9</td>\n",
       "      <td>0.093085</td>\n",
       "      <td>44</td>\n",
       "    </tr>\n",
       "    <tr>\n",
       "      <th>12754</th>\n",
       "      <td>toto-africa.mid</td>\n",
       "      <td>9</td>\n",
       "      <td>0.099734</td>\n",
       "      <td>44</td>\n",
       "    </tr>\n",
       "    <tr>\n",
       "      <th>12755</th>\n",
       "      <td>toto-africa.mid</td>\n",
       "      <td>9</td>\n",
       "      <td>0.106383</td>\n",
       "      <td>44</td>\n",
       "    </tr>\n",
       "  </tbody>\n",
       "</table>\n",
       "<p>12756 rows × 4 columns</p>\n",
       "</div>"
      ],
      "text/plain": [
       "                              midi_name  audio_channel      time  notes\n",
       "0      Aint-No-Mountain-High-Enough.mid              1  0.000000     40\n",
       "1      Aint-No-Mountain-High-Enough.mid              1  0.000000     46\n",
       "2      Aint-No-Mountain-High-Enough.mid              1  0.000000     47\n",
       "3      Aint-No-Mountain-High-Enough.mid              1  0.000000     50\n",
       "4      Aint-No-Mountain-High-Enough.mid              1  0.000000     52\n",
       "...                                 ...            ...       ...    ...\n",
       "12751                   toto-africa.mid              9  0.079787     44\n",
       "12752                   toto-africa.mid              9  0.086436     44\n",
       "12753                   toto-africa.mid              9  0.093085     44\n",
       "12754                   toto-africa.mid              9  0.099734     44\n",
       "12755                   toto-africa.mid              9  0.106383     44\n",
       "\n",
       "[12756 rows x 4 columns]"
      ]
     },
     "metadata": {},
     "output_type": "display_data"
    }
   ],
   "source": [
    "# Sort by name and time ascending\n",
    "\n",
    "song_df = song_df.sort_values(by=['midi_name','audio_channel','time'], \n",
    "                    ascending=True).drop_duplicates().reset_index(drop=True)\n",
    "display(song_df)"
   ]
  },
  {
   "cell_type": "markdown",
   "metadata": {},
   "source": [
    "- Notes arrangement"
   ]
  },
  {
   "cell_type": "code",
   "execution_count": null,
   "metadata": {},
   "outputs": [],
   "source": []
  }
 ],
 "metadata": {
  "kernelspec": {
   "display_name": "base",
   "language": "python",
   "name": "python3"
  },
  "language_info": {
   "codemirror_mode": {
    "name": "ipython",
    "version": 3
   },
   "file_extension": ".py",
   "mimetype": "text/x-python",
   "name": "python",
   "nbconvert_exporter": "python",
   "pygments_lexer": "ipython3",
   "version": "3.10.9"
  },
  "orig_nbformat": 4
 },
 "nbformat": 4,
 "nbformat_minor": 2
}
